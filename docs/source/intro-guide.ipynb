{
 "cells": [
  {
   "cell_type": "markdown",
   "metadata": {
    "ein.tags": [
     "worksheet-0"
    ],
    "slideshow": {
     "slide_type": "-"
    }
   },
   "source": [
    "# Introductory Guide\n",
    "\n",
    "`provenance` is a Python library for function-level caching and provenance that aids in creating parsimonious pythonic pipelines&trade;. By wrapping functions in the `provenance` decorator computed results are cached across various stores (disk, S3, SFTP) and provenance (i.e. lineage) information is tracked and stored in an artifact repository. A central artifact repostiory can be used to enable production pipelines, team collaboration, and reproducible results.\n",
    "\n",
    "What that means in practice is that you can easily keep track of how artifacts (models, features, or any object or file) are created, where they are used, and have a central place to store and share these artifacts. This basic plumbing is required (or at least desired!) in any machine learning pipeline or project. `provenance` can be used standalone along with a build server to run pipelines or in conjunction with more advanced workflow systems (e.g. [Airflow](http://airbnb.io/projects/airflow/), [Luigi](https://github.com/spotify/luigi))."
   ]
  },
  {
   "cell_type": "markdown",
   "metadata": {
    "ein.tags": [
     "worksheet-0"
    ],
    "slideshow": {
     "slide_type": "-"
    }
   },
   "source": [
    "## Configuration\n",
    "\n",
    "Before you can use `provenance` you need to configure it. The suggested way to do so is via the `load_config` function that takes a dictionary of settings. (ProTip: For a team environment take a look at [ymlconf](https://pypi.python.org/pypi/pymlconf) which does merging of configs, e.g. a shared config in a repo and a local one that isn't committed.)\n",
    "\n",
    "We'll define our configuration map in YAML below. The config specifies a blobstore, where the cached values are stored, and an artifact repository, where the metadata is stored. In this example the cached values are stored on disk and the metadata is stored in a Postgres database."
   ]
  },
  {
   "cell_type": "code",
   "execution_count": 1,
   "metadata": {
    "autoscroll": "json-false",
    "collapsed": true,
    "ein.tags": [
     "worksheet-0"
    ],
    "slideshow": {
     "slide_type": "-"
    }
   },
   "outputs": [],
   "source": [
    "%load_ext yamlmagic"
   ]
  },
  {
   "cell_type": "code",
   "execution_count": 2,
   "metadata": {
    "autoscroll": "json-false",
    "ein.tags": [
     "worksheet-0"
    ],
    "slideshow": {
     "slide_type": "-"
    }
   },
   "outputs": [
    {
     "data": {
      "application/javascript": [
       "\n",
       "            require(\n",
       "                [\n",
       "                    \"notebook/js/codecell\",\n",
       "                    \"codemirror/mode/yaml/yaml\"\n",
       "                ],\n",
       "                function(cc){\n",
       "                    cc.CodeCell.options_default.highlight_modes.magic_yaml = {\n",
       "                        reg: [\"^%%yaml\"]\n",
       "                    }\n",
       "                }\n",
       "            );\n",
       "            "
      ],
      "text/plain": [
       "<IPython.core.display.Javascript object>"
      ]
     },
     "metadata": {},
     "output_type": "display_data"
    }
   ],
   "source": [
    "%%yaml basic_config\n",
    "blobstores:\n",
    "    disk:\n",
    "        type: disk\n",
    "        cachedir: /tmp/provenance-intro-artifacts\n",
    "        read: True\n",
    "        write: True\n",
    "        delete: True\n",
    "artifact_repos:\n",
    "    local:\n",
    "        type: postgres\n",
    "        db: postgresql://localhost/provenance-intro\n",
    "        store: 'disk'\n",
    "        read: True\n",
    "        write: True\n",
    "        delete: True\n",
    "        # this option will create the database if it doesn't exist\n",
    "        create_db: True\n",
    "default_repo: local"
   ]
  },
  {
   "cell_type": "code",
   "execution_count": 3,
   "metadata": {
    "autoscroll": "json-false",
    "ein.tags": [
     "worksheet-0"
    ],
    "slideshow": {
     "slide_type": "-"
    }
   },
   "outputs": [
    {
     "name": "stderr",
     "output_type": "stream",
     "text": [
      "INFO  [alembic.runtime.migration] Context impl PostgresqlImpl.\n",
      "INFO  [alembic.runtime.migration] Will assume transactional DDL.\n",
      "INFO  [alembic.runtime.migration] Running stamp_revision  -> e0317ab07ba4\n"
     ]
    },
    {
     "data": {
      "text/plain": [
       "<provenance.repos.Config at 0x10fbd7b00>"
      ]
     },
     "execution_count": 3,
     "metadata": {},
     "output_type": "execute_result"
    }
   ],
   "source": [
    "import provenance as p\n",
    "\n",
    "\n",
    "p.load_config(basic_config)"
   ]
  },
  {
   "cell_type": "markdown",
   "metadata": {},
   "source": [
    "## Basic Example\n",
    "\n",
    "To introduce the concepts we'll take a look at a small function that has been decorated with `provenance`."
   ]
  },
  {
   "cell_type": "markdown",
   "metadata": {
    "ein.tags": [
     "worksheet-0"
    ],
    "slideshow": {
     "slide_type": "-"
    }
   },
   "source": [
    "Now lets define some decorated functions..."
   ]
  },
  {
   "cell_type": "code",
   "execution_count": 4,
   "metadata": {
    "autoscroll": "json-false",
    "collapsed": true,
    "ein.tags": [
     "worksheet-0"
    ],
    "slideshow": {
     "slide_type": "-"
    }
   },
   "outputs": [],
   "source": [
    "import time\n",
    "\n",
    "@p.provenance()\n",
    "def expensive_add(a, b):\n",
    "    time.sleep(2)\n",
    "    return a + b\n",
    "\n",
    "\n",
    "@p.provenance()\n",
    "def expensive_mult(a, b):\n",
    "    time.sleep(2)\n",
    "    return a * b"
   ]
  },
  {
   "cell_type": "code",
   "execution_count": 5,
   "metadata": {
    "autoscroll": "json-false",
    "ein.tags": [
     "worksheet-0"
    ],
    "slideshow": {
     "slide_type": "-"
    }
   },
   "outputs": [
    {
     "name": "stdout",
     "output_type": "stream",
     "text": [
      "7\n",
      "CPU times: user 24.4 ms, sys: 14.8 ms, total: 39.2 ms\n",
      "Wall time: 2.06 s\n"
     ]
    }
   ],
   "source": [
    "%%time\n",
    "result = expensive_add(4, 3)\n",
    "print(result)"
   ]
  },
  {
   "cell_type": "markdown",
   "metadata": {
    "ein.tags": [
     "worksheet-0"
    ],
    "slideshow": {
     "slide_type": "-"
    }
   },
   "source": [
    "As expected, we have a slow addition function. To see the effect of the caching we can repeat the same function invocation:"
   ]
  },
  {
   "cell_type": "code",
   "execution_count": 6,
   "metadata": {
    "autoscroll": "json-false",
    "ein.tags": [
     "worksheet-0"
    ],
    "slideshow": {
     "slide_type": "-"
    }
   },
   "outputs": [
    {
     "name": "stdout",
     "output_type": "stream",
     "text": [
      "7\n",
      "CPU times: user 4.06 ms, sys: 1.62 ms, total: 5.69 ms\n",
      "Wall time: 5.61 ms\n"
     ]
    }
   ],
   "source": [
    "%%time\n",
    "result = expensive_add(4, 3)\n",
    "print(result)"
   ]
  },
  {
   "cell_type": "markdown",
   "metadata": {},
   "source": [
    "## Visualization"
   ]
  },
  {
   "cell_type": "markdown",
   "metadata": {
    "ein.tags": [
     "worksheet-0"
    ],
    "slideshow": {
     "slide_type": "-"
    }
   },
   "source": [
    "If you have used any caching/memoization decorator or library (e.g. `joblib`) then this is old hat to you. What is different is how the provenance of this result is recorded and how it can be accessed. For example, with the same result we can visualize the associated lineage:"
   ]
  },
  {
   "cell_type": "code",
   "execution_count": 7,
   "metadata": {},
   "outputs": [
    {
     "data": {
      "image/svg+xml": [
       "<?xml version=\"1.0\" encoding=\"UTF-8\" standalone=\"no\"?>\n",
       "<!DOCTYPE svg PUBLIC \"-//W3C//DTD SVG 1.1//EN\"\n",
       " \"http://www.w3.org/Graphics/SVG/1.1/DTD/svg11.dtd\">\n",
       "<!-- Generated by graphviz version 2.40.1 (20161225.0304)\n",
       " -->\n",
       "<!-- Title: %3 Pages: 1 -->\n",
       "<svg width=\"134pt\" height=\"293pt\"\n",
       " viewBox=\"0.00 0.00 134.00 293.32\" xmlns=\"http://www.w3.org/2000/svg\" xmlns:xlink=\"http://www.w3.org/1999/xlink\">\n",
       "<g id=\"graph0\" class=\"graph\" transform=\"scale(1 1) rotate(0) translate(4 289.3162)\">\n",
       "<title>%3</title>\n",
       "<polygon fill=\"#ffffff\" stroke=\"transparent\" points=\"-4,4 -4,-289.3162 130,-289.3162 130,4 -4,4\"/>\n",
       "<!-- fn_88311853d7c885426fc5686543fe1412c62c0aac -->\n",
       "<g id=\"node1\" class=\"node\">\n",
       "<title>fn_88311853d7c885426fc5686543fe1412c62c0aac</title>\n",
       "<g id=\"a_node1\"><a xlink:title=\"__main__.expensive_add(a,b)\">\n",
       "<ellipse fill=\"none\" stroke=\"#000000\" cx=\"63\" cy=\"-136.6581\" rx=\"62.8166\" ry=\"62.8166\"/>\n",
       "<text text-anchor=\"middle\" x=\"63\" y=\"-132.4581\" font-family=\"Times,serif\" font-size=\"14.00\" fill=\"#000000\">expensive_add</text>\n",
       "</a>\n",
       "</g>\n",
       "</g>\n",
       "<!-- 88311853d7c885426fc5686543fe1412c62c0aac -->\n",
       "<g id=\"node2\" class=\"node\">\n",
       "<title>88311853d7c885426fc5686543fe1412c62c0aac</title>\n",
       "<g id=\"a_node2\"><a xlink:title=\"7\">\n",
       "<polygon fill=\"none\" stroke=\"#ff0000\" points=\"19.2563,-.5 19.2563,-36.5 106.7437,-36.5 106.7437,-.5 19.2563,-.5\"/>\n",
       "<text text-anchor=\"middle\" x=\"51.5\" y=\"-14.3\" font-family=\"Times,serif\" font-size=\"14.00\" fill=\"#000000\">8831185</text>\n",
       "<polyline fill=\"none\" stroke=\"#ff0000\" points=\"83.7437,-.5 83.7437,-36.5 \"/>\n",
       "<text text-anchor=\"middle\" x=\"95.2437\" y=\"-14.3\" font-family=\"Times,serif\" font-size=\"14.00\" fill=\"#000000\">7</text>\n",
       "</a>\n",
       "</g>\n",
       "</g>\n",
       "<!-- fn_88311853d7c885426fc5686543fe1412c62c0aac&#45;&gt;88311853d7c885426fc5686543fe1412c62c0aac -->\n",
       "<g id=\"edge3\" class=\"edge\">\n",
       "<title>fn_88311853d7c885426fc5686543fe1412c62c0aac&#45;&gt;88311853d7c885426fc5686543fe1412c62c0aac</title>\n",
       "<path fill=\"none\" stroke=\"#000000\" d=\"M63,-73.7736C63,-64.2699 63,-54.8982 63,-46.6475\"/>\n",
       "<polygon fill=\"#000000\" stroke=\"#000000\" points=\"66.5001,-46.53 63,-36.53 59.5001,-46.5301 66.5001,-46.53\"/>\n",
       "</g>\n",
       "<!-- 88311853d7c885426fc5686543fe1412c62c0aac|b -->\n",
       "<g id=\"node3\" class=\"node\">\n",
       "<title>88311853d7c885426fc5686543fe1412c62c0aac|b</title>\n",
       "<polygon fill=\"none\" stroke=\"#000000\" points=\"54,-285.3162 0,-285.3162 0,-249.3162 54,-249.3162 54,-285.3162\"/>\n",
       "<text text-anchor=\"middle\" x=\"27\" y=\"-263.1162\" font-family=\"Times,serif\" font-size=\"14.00\" fill=\"#000000\">3</text>\n",
       "</g>\n",
       "<!-- 88311853d7c885426fc5686543fe1412c62c0aac|b&#45;&gt;fn_88311853d7c885426fc5686543fe1412c62c0aac -->\n",
       "<g id=\"edge1\" class=\"edge\">\n",
       "<title>88311853d7c885426fc5686543fe1412c62c0aac|b&#45;&gt;fn_88311853d7c885426fc5686543fe1412c62c0aac</title>\n",
       "<path fill=\"none\" stroke=\"#000000\" d=\"M32.0056,-249.1487C35.1095,-237.8836 39.3172,-222.6123 43.6303,-206.9581\"/>\n",
       "<polygon fill=\"#000000\" stroke=\"#000000\" points=\"47.0385,-207.7646 46.3206,-197.1941 40.29,-205.9052 47.0385,-207.7646\"/>\n",
       "<text text-anchor=\"middle\" x=\"44.5\" y=\"-220.1162\" font-family=\"Times,serif\" font-size=\"14.00\" fill=\"#000000\">b</text>\n",
       "</g>\n",
       "<!-- 88311853d7c885426fc5686543fe1412c62c0aac|a -->\n",
       "<g id=\"node4\" class=\"node\">\n",
       "<title>88311853d7c885426fc5686543fe1412c62c0aac|a</title>\n",
       "<polygon fill=\"none\" stroke=\"#000000\" points=\"126,-285.3162 72,-285.3162 72,-249.3162 126,-249.3162 126,-285.3162\"/>\n",
       "<text text-anchor=\"middle\" x=\"99\" y=\"-263.1162\" font-family=\"Times,serif\" font-size=\"14.00\" fill=\"#000000\">4</text>\n",
       "</g>\n",
       "<!-- 88311853d7c885426fc5686543fe1412c62c0aac|a&#45;&gt;fn_88311853d7c885426fc5686543fe1412c62c0aac -->\n",
       "<g id=\"edge2\" class=\"edge\">\n",
       "<title>88311853d7c885426fc5686543fe1412c62c0aac|a&#45;&gt;fn_88311853d7c885426fc5686543fe1412c62c0aac</title>\n",
       "<path fill=\"none\" stroke=\"#000000\" d=\"M93.9944,-249.1487C90.8905,-237.8836 86.6828,-222.6123 82.3697,-206.9581\"/>\n",
       "<polygon fill=\"#000000\" stroke=\"#000000\" points=\"85.71,-205.9052 79.6794,-197.1941 78.9615,-207.7646 85.71,-205.9052\"/>\n",
       "<text text-anchor=\"middle\" x=\"91.1069\" y=\"-220.1162\" font-family=\"Times,serif\" font-size=\"14.00\" fill=\"#000000\">a</text>\n",
       "</g>\n",
       "</g>\n",
       "</svg>\n"
      ],
      "text/plain": [
       "<provenance.vis.utils.DigraphDicts at 0x111faf160>"
      ]
     },
     "execution_count": 7,
     "metadata": {},
     "output_type": "execute_result"
    }
   ],
   "source": [
    "import provenance.vis as vis\n",
    "\n",
    "vis.visualize_lineage(result)"
   ]
  },
  {
   "cell_type": "markdown",
   "metadata": {},
   "source": [
    "## What is an artifact?"
   ]
  },
  {
   "cell_type": "markdown",
   "metadata": {},
   "source": [
    "In the above visualization the `artifact` is outlined in red with the artifact `id` on the left and the `value` (result) on the right. How is this possible and what exactly is an `artifact`? Well, the `result` is not a raw `7` but rather is an `ArtifactProxy` which wraps the `7`."
   ]
  },
  {
   "cell_type": "code",
   "execution_count": 8,
   "metadata": {
    "autoscroll": "json-false",
    "ein.tags": [
     "worksheet-0"
    ],
    "slideshow": {
     "slide_type": "-"
    }
   },
   "outputs": [
    {
     "data": {
      "text/plain": [
       "<provenance.ArtifactProxy(88311853d7c885426fc5686543fe1412c62c0aac) 7 >"
      ]
     },
     "execution_count": 8,
     "metadata": {},
     "output_type": "execute_result"
    }
   ],
   "source": [
    "result"
   ]
  },
  {
   "cell_type": "markdown",
   "metadata": {
    "ein.tags": [
     "worksheet-0"
    ],
    "slideshow": {
     "slide_type": "-"
    }
   },
   "source": [
    "The hash in the parenthesis is the `id` of the artifact which is a function of the name of the function used and the inputs used to produce the value. \n",
    "\n",
    "All properties, methods, and operations called against this object will be proxied to the underlying value, `7` in this case. You can treat the result as you normally would:"
   ]
  },
  {
   "cell_type": "code",
   "execution_count": 9,
   "metadata": {
    "autoscroll": "json-false",
    "ein.tags": [
     "worksheet-0"
    ],
    "slideshow": {
     "slide_type": "-"
    }
   },
   "outputs": [
    {
     "data": {
      "text/plain": [
       "10"
      ]
     },
     "execution_count": 9,
     "metadata": {},
     "output_type": "execute_result"
    }
   ],
   "source": [
    "result + 3"
   ]
  },
  {
   "cell_type": "markdown",
   "metadata": {
    "ein.tags": [
     "worksheet-0"
    ],
    "slideshow": {
     "slide_type": "-"
    }
   },
   "source": [
    "The one exception to this is the `artifact` property which returns the `Artifact`."
   ]
  },
  {
   "cell_type": "code",
   "execution_count": 10,
   "metadata": {
    "autoscroll": "json-false",
    "ein.tags": [
     "worksheet-0"
    ],
    "slideshow": {
     "slide_type": "-"
    }
   },
   "outputs": [
    {
     "data": {
      "text/plain": [
       "<provenance.Artifact(88311853d7c885426fc5686543fe1412c62c0aac)>"
      ]
     },
     "execution_count": 10,
     "metadata": {},
     "output_type": "execute_result"
    }
   ],
   "source": [
    "artifact = result.artifact\n",
    "artifact"
   ]
  },
  {
   "cell_type": "markdown",
   "metadata": {
    "ein.tags": [
     "worksheet-0"
    ],
    "slideshow": {
     "slide_type": "-"
    }
   },
   "source": [
    "On this `artifact` is where you will find the provenance information for the value."
   ]
  },
  {
   "cell_type": "code",
   "execution_count": 11,
   "metadata": {
    "autoscroll": "json-false",
    "ein.tags": [
     "worksheet-0"
    ],
    "slideshow": {
     "slide_type": "-"
    }
   },
   "outputs": [
    {
     "data": {
      "text/plain": [
       "('__main__', 'expensive_add')"
      ]
     },
     "execution_count": 11,
     "metadata": {},
     "output_type": "execute_result"
    }
   ],
   "source": [
    "# What function what used to create artifact?\n",
    "artifact.fn_module, artifact.fn_name"
   ]
  },
  {
   "cell_type": "code",
   "execution_count": 12,
   "metadata": {
    "autoscroll": "json-false",
    "ein.tags": [
     "worksheet-0"
    ],
    "slideshow": {
     "slide_type": "-"
    }
   },
   "outputs": [
    {
     "data": {
      "text/plain": [
       "{'kargs': {'a': 4, 'b': 3}, 'varargs': ()}"
      ]
     },
     "execution_count": 12,
     "metadata": {},
     "output_type": "execute_result"
    }
   ],
   "source": [
    "# What inputs were used?\n",
    "artifact.inputs"
   ]
  },
  {
   "cell_type": "markdown",
   "metadata": {
    "ein.tags": [
     "worksheet-0"
    ],
    "slideshow": {
     "slide_type": "-"
    }
   },
   "source": [
    "This information is what powered the visualization above.\n",
    "\n",
    "Each artifact has additional information attached to it, such as the `id`, `value_id`, `value`, and `run_info`. `run_info` captures information about the environment when the artifact was created:"
   ]
  },
  {
   "cell_type": "code",
   "execution_count": 13,
   "metadata": {},
   "outputs": [
    {
     "data": {
      "text/plain": [
       "{'created_at': datetime.datetime(2017, 4, 30, 23, 59, 7, 29629),\n",
       " 'host': {'cpu_count': 8,\n",
       "  'machine': 'x86_64',\n",
       "  'nodename': 'lambda',\n",
       "  'platform': 'Darwin-16.5.0-x86_64-i386-64bit',\n",
       "  'processor': 'i386',\n",
       "  'release': '16.5.0',\n",
       "  'system': 'Darwin',\n",
       "  'version': 'Darwin Kernel Version 16.5.0: Fri Mar  3 16:52:33 PST 2017; root:xnu-3789.51.2~3/RELEASE_X86_64'},\n",
       " 'id': 'fff2aa27f17612b97cb7b9443bdfe0c8377343f1',\n",
       " 'process': {'cmdline': ['/Users/bmabey/anaconda/envs/provenance-dev/bin/python',\n",
       "   '-m',\n",
       "   'ipykernel',\n",
       "   '-f',\n",
       "   '/Users/bmabey/Library/Jupyter/runtime/kernel-536bbad6-5cee-4aca-bdcb-cdeed82f2f8c.json'],\n",
       "  'cwd': '/Users/bmabey/w/provenance/docs/source',\n",
       "  'exe': '/Users/bmabey/anaconda/envs/provenance-dev/bin/python3.5',\n",
       "  'name': 'python3.5',\n",
       "  'num_fds': 59,\n",
       "  'num_threads': 9}}"
      ]
     },
     "execution_count": 13,
     "metadata": {},
     "output_type": "execute_result"
    }
   ],
   "source": [
    "artifact.run_info"
   ]
  },
  {
   "cell_type": "markdown",
   "metadata": {},
   "source": [
    "You typically also want the `run_info` to include the `git` ref or build server job ID that was used to produce the artifact. This is easily done by using the provided `provenance.set_run_info_fn` hook. Please refer to the [API documenation](API.rst) for details."
   ]
  },
  {
   "cell_type": "markdown",
   "metadata": {},
   "source": [
    "## Loading Artifacts\n",
    "\n",
    "Aside from calling decorating functions and having cached `artifact`s returned you can also explicitly load an `artifact` by it's `id`. This becomes useful in a team setting since you can have a shared store on S3, e.g. \"Check out this amazing model I just built, load artifact 349ded4f...!\". The other main usecase for this is in production settings. See the [Machine Learning Pipeline guide](ml-pipeline.ipynb) for more details on that."
   ]
  },
  {
   "cell_type": "code",
   "execution_count": 14,
   "metadata": {},
   "outputs": [
    {
     "data": {
      "text/plain": [
       "<provenance.Artifact(88311853d7c885426fc5686543fe1412c62c0aac)>"
      ]
     },
     "execution_count": 14,
     "metadata": {},
     "output_type": "execute_result"
    }
   ],
   "source": [
    "# get the id of the artifact above\n",
    "artifact_id = artifact.id\n",
    "\n",
    "loaded_artifact = p.load_artifact(artifact_id)\n",
    "\n",
    "loaded_artifact"
   ]
  },
  {
   "cell_type": "markdown",
   "metadata": {},
   "source": [
    "You can inspect the `loaded_artifact` as done above or load the value into a proxy:"
   ]
  },
  {
   "cell_type": "code",
   "execution_count": 15,
   "metadata": {},
   "outputs": [
    {
     "data": {
      "text/plain": [
       "<provenance.ArtifactProxy(88311853d7c885426fc5686543fe1412c62c0aac) 7 >"
      ]
     },
     "execution_count": 15,
     "metadata": {},
     "output_type": "execute_result"
    }
   ],
   "source": [
    "loaded_artifact.proxy()"
   ]
  },
  {
   "cell_type": "markdown",
   "metadata": {},
   "source": [
    "Alternatively, if you can load the proxy directly with `load_proxy`. `load_artifact` is still useful when you want the provenance and other metadata about an `artifact` but not the actual value."
   ]
  },
  {
   "cell_type": "code",
   "execution_count": 16,
   "metadata": {},
   "outputs": [
    {
     "data": {
      "text/plain": [
       "<provenance.ArtifactProxy(88311853d7c885426fc5686543fe1412c62c0aac) 7 >"
      ]
     },
     "execution_count": 16,
     "metadata": {},
     "output_type": "execute_result"
    }
   ],
   "source": [
    "p.load_proxy(artifact_id)"
   ]
  },
  {
   "cell_type": "markdown",
   "metadata": {},
   "source": [
    "## Multiple Functions Example"
   ]
  },
  {
   "cell_type": "markdown",
   "metadata": {},
   "source": [
    "In any advanced workflow you will have a series of functions all pipelined together. For true provenance you will need to be able to track all artifacts to their source.  This is why the computed results of functions are returned as `ArtifactProxy`s, to enable the flow of artifacts to be tracked."
   ]
  },
  {
   "cell_type": "code",
   "execution_count": 17,
   "metadata": {},
   "outputs": [
    {
     "data": {
      "image/svg+xml": [
       "<?xml version=\"1.0\" encoding=\"UTF-8\" standalone=\"no\"?>\n",
       "<!DOCTYPE svg PUBLIC \"-//W3C//DTD SVG 1.1//EN\"\n",
       " \"http://www.w3.org/Graphics/SVG/1.1/DTD/svg11.dtd\">\n",
       "<!-- Generated by graphviz version 2.40.1 (20161225.0304)\n",
       " -->\n",
       "<!-- Title: %3 Pages: 1 -->\n",
       "<svg width=\"313pt\" height=\"550pt\"\n",
       " viewBox=\"0.00 0.00 313.00 549.52\" xmlns=\"http://www.w3.org/2000/svg\" xmlns:xlink=\"http://www.w3.org/1999/xlink\">\n",
       "<g id=\"graph0\" class=\"graph\" transform=\"scale(1 1) rotate(0) translate(4 545.524)\">\n",
       "<title>%3</title>\n",
       "<polygon fill=\"#ffffff\" stroke=\"transparent\" points=\"-4,4 -4,-545.524 309,-545.524 309,4 -4,4\"/>\n",
       "<!-- fn_88311853d7c885426fc5686543fe1412c62c0aac -->\n",
       "<g id=\"node1\" class=\"node\">\n",
       "<title>fn_88311853d7c885426fc5686543fe1412c62c0aac</title>\n",
       "<g id=\"a_node1\"><a xlink:title=\"__main__.expensive_add(a,b)\">\n",
       "<ellipse fill=\"none\" stroke=\"#000000\" cx=\"224\" cy=\"-392.8659\" rx=\"62.8166\" ry=\"62.8166\"/>\n",
       "<text text-anchor=\"middle\" x=\"224\" y=\"-388.6659\" font-family=\"Times,serif\" font-size=\"14.00\" fill=\"#000000\">expensive_add</text>\n",
       "</a>\n",
       "</g>\n",
       "</g>\n",
       "<!-- 88311853d7c885426fc5686543fe1412c62c0aac -->\n",
       "<g id=\"node2\" class=\"node\">\n",
       "<title>88311853d7c885426fc5686543fe1412c62c0aac</title>\n",
       "<g id=\"a_node2\"><a xlink:title=\"7\">\n",
       "<polygon fill=\"none\" stroke=\"#ff0000\" points=\"175.2563,-256.7078 175.2563,-292.7078 262.7437,-292.7078 262.7437,-256.7078 175.2563,-256.7078\"/>\n",
       "<text text-anchor=\"middle\" x=\"207.5\" y=\"-270.5078\" font-family=\"Times,serif\" font-size=\"14.00\" fill=\"#000000\">8831185</text>\n",
       "<polyline fill=\"none\" stroke=\"#ff0000\" points=\"239.7437,-256.7078 239.7437,-292.7078 \"/>\n",
       "<text text-anchor=\"middle\" x=\"251.2437\" y=\"-270.5078\" font-family=\"Times,serif\" font-size=\"14.00\" fill=\"#000000\">7</text>\n",
       "</a>\n",
       "</g>\n",
       "</g>\n",
       "<!-- fn_88311853d7c885426fc5686543fe1412c62c0aac&#45;&gt;88311853d7c885426fc5686543fe1412c62c0aac -->\n",
       "<g id=\"edge7\" class=\"edge\">\n",
       "<title>fn_88311853d7c885426fc5686543fe1412c62c0aac&#45;&gt;88311853d7c885426fc5686543fe1412c62c0aac</title>\n",
       "<path fill=\"none\" stroke=\"#000000\" d=\"M221.339,-329.9814C220.9368,-320.4778 220.5402,-311.106 220.1911,-302.8553\"/>\n",
       "<polygon fill=\"#000000\" stroke=\"#000000\" points=\"223.6827,-302.5809 219.763,-292.7379 216.689,-302.877 223.6827,-302.5809\"/>\n",
       "</g>\n",
       "<!-- fn_5cb5fe1eeacbfe961bd03e63609ad64cf9c3ce12 -->\n",
       "<g id=\"node3\" class=\"node\">\n",
       "<title>fn_5cb5fe1eeacbfe961bd03e63609ad64cf9c3ce12</title>\n",
       "<g id=\"a_node3\"><a xlink:title=\"__main__.expensive_mult(b,a)\">\n",
       "<ellipse fill=\"none\" stroke=\"#000000\" cx=\"161\" cy=\"-140.1039\" rx=\"66.208\" ry=\"66.208\"/>\n",
       "<text text-anchor=\"middle\" x=\"161\" y=\"-135.9039\" font-family=\"Times,serif\" font-size=\"14.00\" fill=\"#000000\">expensive_mult</text>\n",
       "</a>\n",
       "</g>\n",
       "</g>\n",
       "<!-- 88311853d7c885426fc5686543fe1412c62c0aac&#45;&gt;fn_5cb5fe1eeacbfe961bd03e63609ad64cf9c3ce12 -->\n",
       "<g id=\"edge1\" class=\"edge\">\n",
       "<title>88311853d7c885426fc5686543fe1412c62c0aac&#45;&gt;fn_5cb5fe1eeacbfe961bd03e63609ad64cf9c3ce12</title>\n",
       "<path fill=\"none\" stroke=\"#000000\" d=\"M211.1779,-256.5546C205.9339,-244.3845 198.6584,-227.5 191.2727,-210.3596\"/>\n",
       "<polygon fill=\"#000000\" stroke=\"#000000\" points=\"194.342,-208.6378 187.1704,-200.8391 187.9134,-211.4079 194.342,-208.6378\"/>\n",
       "<text text-anchor=\"middle\" x=\"205.1069\" y=\"-227.0078\" font-family=\"Times,serif\" font-size=\"14.00\" fill=\"#000000\">a</text>\n",
       "</g>\n",
       "<!-- 5cb5fe1eeacbfe961bd03e63609ad64cf9c3ce12 -->\n",
       "<g id=\"node6\" class=\"node\">\n",
       "<title>5cb5fe1eeacbfe961bd03e63609ad64cf9c3ce12</title>\n",
       "<g id=\"a_node6\"><a xlink:title=\"14\">\n",
       "<polygon fill=\"none\" stroke=\"#ff0000\" points=\"115.4551,-.5 115.4551,-36.5 206.5449,-36.5 206.5449,-.5 115.4551,-.5\"/>\n",
       "<text text-anchor=\"middle\" x=\"146\" y=\"-14.3\" font-family=\"Times,serif\" font-size=\"14.00\" fill=\"#000000\">5cb5fe1</text>\n",
       "<polyline fill=\"none\" stroke=\"#ff0000\" points=\"176.5449,-.5 176.5449,-36.5 \"/>\n",
       "<text text-anchor=\"middle\" x=\"191.5449\" y=\"-14.3\" font-family=\"Times,serif\" font-size=\"14.00\" fill=\"#000000\">14</text>\n",
       "</a>\n",
       "</g>\n",
       "</g>\n",
       "<!-- fn_5cb5fe1eeacbfe961bd03e63609ad64cf9c3ce12&#45;&gt;5cb5fe1eeacbfe961bd03e63609ad64cf9c3ce12 -->\n",
       "<g id=\"edge8\" class=\"edge\">\n",
       "<title>fn_5cb5fe1eeacbfe961bd03e63609ad64cf9c3ce12&#45;&gt;5cb5fe1eeacbfe961bd03e63609ad64cf9c3ce12</title>\n",
       "<path fill=\"none\" stroke=\"#000000\" d=\"M161,-73.9642C161,-64.3584 161,-54.9317 161,-46.653\"/>\n",
       "<polygon fill=\"#000000\" stroke=\"#000000\" points=\"164.5001,-46.5126 161,-36.5126 157.5001,-46.5126 164.5001,-46.5126\"/>\n",
       "</g>\n",
       "<!-- 88311853d7c885426fc5686543fe1412c62c0aac|b -->\n",
       "<g id=\"node4\" class=\"node\">\n",
       "<title>88311853d7c885426fc5686543fe1412c62c0aac|b</title>\n",
       "<polygon fill=\"none\" stroke=\"#000000\" points=\"233,-541.524 179,-541.524 179,-505.524 233,-505.524 233,-541.524\"/>\n",
       "<text text-anchor=\"middle\" x=\"206\" y=\"-519.324\" font-family=\"Times,serif\" font-size=\"14.00\" fill=\"#000000\">3</text>\n",
       "</g>\n",
       "<!-- 88311853d7c885426fc5686543fe1412c62c0aac|b&#45;&gt;fn_88311853d7c885426fc5686543fe1412c62c0aac -->\n",
       "<g id=\"edge2\" class=\"edge\">\n",
       "<title>88311853d7c885426fc5686543fe1412c62c0aac|b&#45;&gt;fn_88311853d7c885426fc5686543fe1412c62c0aac</title>\n",
       "<path fill=\"none\" stroke=\"#000000\" d=\"M208.5028,-505.3566C209.9784,-494.6458 211.9529,-480.3135 213.9972,-465.4739\"/>\n",
       "<polygon fill=\"#000000\" stroke=\"#000000\" points=\"217.5209,-465.5417 215.4184,-455.1576 210.5864,-464.5863 217.5209,-465.5417\"/>\n",
       "<text text-anchor=\"middle\" x=\"216.5\" y=\"-476.324\" font-family=\"Times,serif\" font-size=\"14.00\" fill=\"#000000\">b</text>\n",
       "</g>\n",
       "<!-- fn_b74ccde8b53c0e02b4f269df65a39fd6be5191f7 -->\n",
       "<g id=\"node5\" class=\"node\">\n",
       "<title>fn_b74ccde8b53c0e02b4f269df65a39fd6be5191f7</title>\n",
       "<g id=\"a_node5\"><a xlink:title=\"__main__.expensive_add(b,a)\">\n",
       "<ellipse fill=\"none\" stroke=\"#000000\" cx=\"81\" cy=\"-392.8659\" rx=\"62.8166\" ry=\"62.8166\"/>\n",
       "<text text-anchor=\"middle\" x=\"81\" y=\"-388.6659\" font-family=\"Times,serif\" font-size=\"14.00\" fill=\"#000000\">expensive_add</text>\n",
       "</a>\n",
       "</g>\n",
       "</g>\n",
       "<!-- b74ccde8b53c0e02b4f269df65a39fd6be5191f7 -->\n",
       "<g id=\"node7\" class=\"node\">\n",
       "<title>b74ccde8b53c0e02b4f269df65a39fd6be5191f7</title>\n",
       "<g id=\"a_node7\"><a xlink:title=\"2\">\n",
       "<polygon fill=\"none\" stroke=\"#ff0000\" points=\"66.1792,-256.7078 66.1792,-292.7078 151.8208,-292.7078 151.8208,-256.7078 66.1792,-256.7078\"/>\n",
       "<text text-anchor=\"middle\" x=\"97.5\" y=\"-270.5078\" font-family=\"Times,serif\" font-size=\"14.00\" fill=\"#000000\">b74ccde</text>\n",
       "<polyline fill=\"none\" stroke=\"#ff0000\" points=\"128.8208,-256.7078 128.8208,-292.7078 \"/>\n",
       "<text text-anchor=\"middle\" x=\"140.3208\" y=\"-270.5078\" font-family=\"Times,serif\" font-size=\"14.00\" fill=\"#000000\">2</text>\n",
       "</a>\n",
       "</g>\n",
       "</g>\n",
       "<!-- fn_b74ccde8b53c0e02b4f269df65a39fd6be5191f7&#45;&gt;b74ccde8b53c0e02b4f269df65a39fd6be5191f7 -->\n",
       "<g id=\"edge6\" class=\"edge\">\n",
       "<title>fn_b74ccde8b53c0e02b4f269df65a39fd6be5191f7&#45;&gt;b74ccde8b53c0e02b4f269df65a39fd6be5191f7</title>\n",
       "<path fill=\"none\" stroke=\"#000000\" d=\"M95.4921,-331.7103C97.8828,-321.6218 100.2543,-311.6141 102.3274,-302.8659\"/>\n",
       "<polygon fill=\"#000000\" stroke=\"#000000\" points=\"105.789,-303.4366 104.6892,-292.899 98.9776,-301.8224 105.789,-303.4366\"/>\n",
       "</g>\n",
       "<!-- b74ccde8b53c0e02b4f269df65a39fd6be5191f7&#45;&gt;fn_5cb5fe1eeacbfe961bd03e63609ad64cf9c3ce12 -->\n",
       "<g id=\"edge4\" class=\"edge\">\n",
       "<title>b74ccde8b53c0e02b4f269df65a39fd6be5191f7&#45;&gt;fn_5cb5fe1eeacbfe961bd03e63609ad64cf9c3ce12</title>\n",
       "<path fill=\"none\" stroke=\"#000000\" d=\"M116.013,-256.5546C120.6209,-244.6267 126.9784,-228.1702 133.4637,-211.3826\"/>\n",
       "<polygon fill=\"#000000\" stroke=\"#000000\" points=\"136.7307,-212.6381 137.0696,-202.0487 130.201,-210.1156 136.7307,-212.6381\"/>\n",
       "<text text-anchor=\"middle\" x=\"131.5\" y=\"-227.0078\" font-family=\"Times,serif\" font-size=\"14.00\" fill=\"#000000\">b</text>\n",
       "</g>\n",
       "<!-- b74ccde8b53c0e02b4f269df65a39fd6be5191f7|a -->\n",
       "<g id=\"node8\" class=\"node\">\n",
       "<title>b74ccde8b53c0e02b4f269df65a39fd6be5191f7|a</title>\n",
       "<polygon fill=\"none\" stroke=\"#000000\" points=\"54,-541.524 0,-541.524 0,-505.524 54,-505.524 54,-541.524\"/>\n",
       "<text text-anchor=\"middle\" x=\"27\" y=\"-519.324\" font-family=\"Times,serif\" font-size=\"14.00\" fill=\"#000000\">1</text>\n",
       "</g>\n",
       "<!-- b74ccde8b53c0e02b4f269df65a39fd6be5191f7|a&#45;&gt;fn_b74ccde8b53c0e02b4f269df65a39fd6be5191f7 -->\n",
       "<g id=\"edge3\" class=\"edge\">\n",
       "<title>b74ccde8b53c0e02b4f269df65a39fd6be5191f7|a&#45;&gt;fn_b74ccde8b53c0e02b4f269df65a39fd6be5191f7</title>\n",
       "<path fill=\"none\" stroke=\"#000000\" d=\"M34.5085,-505.3566C39.4722,-493.3464 46.3178,-476.7827 53.2308,-460.0562\"/>\n",
       "<polygon fill=\"#000000\" stroke=\"#000000\" points=\"56.4817,-461.3535 57.0667,-450.7748 50.0124,-458.6797 56.4817,-461.3535\"/>\n",
       "<text text-anchor=\"middle\" x=\"51.1069\" y=\"-476.324\" font-family=\"Times,serif\" font-size=\"14.00\" fill=\"#000000\">a</text>\n",
       "</g>\n",
       "<!-- b74ccde8b53c0e02b4f269df65a39fd6be5191f7|b -->\n",
       "<g id=\"node9\" class=\"node\">\n",
       "<title>b74ccde8b53c0e02b4f269df65a39fd6be5191f7|b</title>\n",
       "<polygon fill=\"none\" stroke=\"#000000\" points=\"126,-541.524 72,-541.524 72,-505.524 126,-505.524 126,-541.524\"/>\n",
       "<text text-anchor=\"middle\" x=\"99\" y=\"-519.324\" font-family=\"Times,serif\" font-size=\"14.00\" fill=\"#000000\">1</text>\n",
       "</g>\n",
       "<!-- b74ccde8b53c0e02b4f269df65a39fd6be5191f7|b&#45;&gt;fn_b74ccde8b53c0e02b4f269df65a39fd6be5191f7 -->\n",
       "<g id=\"edge9\" class=\"edge\">\n",
       "<title>b74ccde8b53c0e02b4f269df65a39fd6be5191f7|b&#45;&gt;fn_b74ccde8b53c0e02b4f269df65a39fd6be5191f7</title>\n",
       "<path fill=\"none\" stroke=\"#000000\" d=\"M96.4972,-505.3566C95.0216,-494.6458 93.0471,-480.3135 91.0028,-465.4739\"/>\n",
       "<polygon fill=\"#000000\" stroke=\"#000000\" points=\"94.4136,-464.5863 89.5816,-455.1576 87.4791,-465.5417 94.4136,-464.5863\"/>\n",
       "<text text-anchor=\"middle\" x=\"97.5\" y=\"-476.324\" font-family=\"Times,serif\" font-size=\"14.00\" fill=\"#000000\">b</text>\n",
       "</g>\n",
       "<!-- 88311853d7c885426fc5686543fe1412c62c0aac|a -->\n",
       "<g id=\"node10\" class=\"node\">\n",
       "<title>88311853d7c885426fc5686543fe1412c62c0aac|a</title>\n",
       "<polygon fill=\"none\" stroke=\"#000000\" points=\"305,-541.524 251,-541.524 251,-505.524 305,-505.524 305,-541.524\"/>\n",
       "<text text-anchor=\"middle\" x=\"278\" y=\"-519.324\" font-family=\"Times,serif\" font-size=\"14.00\" fill=\"#000000\">4</text>\n",
       "</g>\n",
       "<!-- 88311853d7c885426fc5686543fe1412c62c0aac|a&#45;&gt;fn_88311853d7c885426fc5686543fe1412c62c0aac -->\n",
       "<g id=\"edge5\" class=\"edge\">\n",
       "<title>88311853d7c885426fc5686543fe1412c62c0aac|a&#45;&gt;fn_88311853d7c885426fc5686543fe1412c62c0aac</title>\n",
       "<path fill=\"none\" stroke=\"#000000\" d=\"M270.4915,-505.3566C265.5278,-493.3464 258.6822,-476.7827 251.7692,-460.0562\"/>\n",
       "<polygon fill=\"#000000\" stroke=\"#000000\" points=\"254.9876,-458.6797 247.9333,-450.7748 248.5183,-461.3535 254.9876,-458.6797\"/>\n",
       "<text text-anchor=\"middle\" x=\"266.1069\" y=\"-476.324\" font-family=\"Times,serif\" font-size=\"14.00\" fill=\"#000000\">a</text>\n",
       "</g>\n",
       "</g>\n",
       "</svg>\n"
      ],
      "text/plain": [
       "<provenance.vis.utils.DigraphDicts at 0x11210f5c0>"
      ]
     },
     "execution_count": 17,
     "metadata": {},
     "output_type": "execute_result"
    }
   ],
   "source": [
    "a1 = expensive_add(4, 3)\n",
    "a2 = expensive_add(1, 1)\n",
    "\n",
    "result = expensive_mult(a1, a2)\n",
    "\n",
    "vis.visualize_lineage(result)"
   ]
  },
  {
   "cell_type": "markdown",
   "metadata": {},
   "source": [
    "Note how the final artifact can be traced all the way back to the original inputs! As mentioned above this is enabled by the passing of the `ArtifactProxy` results, which means that for you to take advantage of this you must be passing the proxies throughout your entire pipeline. Best practice is to have your outer functions take basic Python data structures and then pass all resulting complex objects (e.g. scikit learn models) as `ArtifactProxy`s."
   ]
  },
  {
   "cell_type": "markdown",
   "metadata": {},
   "source": [
    "## Underlying Storage\n",
    "\n",
    "Under the hood all of the artifacts are being recorded to the artifact repository we configured above. A repository is comprised of a store that records provenance and metadata and a blobstore that stores the serialized artifact (`joblib` serialization is the default). While you rarely would need to access the blobstore files directly, querying the DB directly is useful and is a hallmark of the library."
   ]
  },
  {
   "cell_type": "code",
   "execution_count": 18,
   "metadata": {},
   "outputs": [
    {
     "data": {
      "text/html": [
       "<div>\n",
       "<table border=\"1\" class=\"dataframe\">\n",
       "  <thead>\n",
       "    <tr style=\"text-align: right;\">\n",
       "      <th></th>\n",
       "      <th>id</th>\n",
       "      <th>value_id</th>\n",
       "      <th>run_id</th>\n",
       "      <th>name</th>\n",
       "      <th>version</th>\n",
       "      <th>fn_module</th>\n",
       "      <th>fn_name</th>\n",
       "      <th>composite</th>\n",
       "      <th>value_id_duration</th>\n",
       "      <th>compute_duration</th>\n",
       "      <th>hash_duration</th>\n",
       "      <th>computed_at</th>\n",
       "      <th>added_at</th>\n",
       "      <th>input_artifact_ids</th>\n",
       "      <th>inputs_json</th>\n",
       "      <th>serializer</th>\n",
       "      <th>load_kwargs</th>\n",
       "      <th>dump_kwargs</th>\n",
       "      <th>custom_fields</th>\n",
       "    </tr>\n",
       "  </thead>\n",
       "  <tbody>\n",
       "    <tr>\n",
       "      <th>0</th>\n",
       "      <td>88311853d7c885426fc5686543fe1412c62c0aac</td>\n",
       "      <td>bf68bf734f70b6643ce88133e90cf0f191aa704c</td>\n",
       "      <td>fff2aa27f17612b97cb7b9443bdfe0c8377343f1</td>\n",
       "      <td>__main__.expensive_add</td>\n",
       "      <td>0</td>\n",
       "      <td>__main__</td>\n",
       "      <td>expensive_add</td>\n",
       "      <td>False</td>\n",
       "      <td>0.000047</td>\n",
       "      <td>2.000509</td>\n",
       "      <td>0.000481</td>\n",
       "      <td>2017-04-30 23:59:07.044956</td>\n",
       "      <td>2017-04-30 23:59:09.068981</td>\n",
       "      <td>[]</td>\n",
       "      <td>{'__varargs': [], 'b': 3, 'a': 4}</td>\n",
       "      <td>joblib</td>\n",
       "      <td>None</td>\n",
       "      <td>None</td>\n",
       "      <td>{}</td>\n",
       "    </tr>\n",
       "    <tr>\n",
       "      <th>1</th>\n",
       "      <td>b74ccde8b53c0e02b4f269df65a39fd6be5191f7</td>\n",
       "      <td>9df9e3b99f954bd73e4314d3006e8d5b21bdcb84</td>\n",
       "      <td>fff2aa27f17612b97cb7b9443bdfe0c8377343f1</td>\n",
       "      <td>__main__.expensive_add</td>\n",
       "      <td>0</td>\n",
       "      <td>__main__</td>\n",
       "      <td>expensive_add</td>\n",
       "      <td>False</td>\n",
       "      <td>0.000049</td>\n",
       "      <td>2.004247</td>\n",
       "      <td>0.000450</td>\n",
       "      <td>2017-04-30 23:59:09.257366</td>\n",
       "      <td>2017-04-30 23:59:11.272746</td>\n",
       "      <td>[]</td>\n",
       "      <td>{'__varargs': [], 'b': 1, 'a': 1}</td>\n",
       "      <td>joblib</td>\n",
       "      <td>None</td>\n",
       "      <td>None</td>\n",
       "      <td>{}</td>\n",
       "    </tr>\n",
       "    <tr>\n",
       "      <th>2</th>\n",
       "      <td>5cb5fe1eeacbfe961bd03e63609ad64cf9c3ce12</td>\n",
       "      <td>483f2bffe8d13307d17ab5162facd02c09ff3b08</td>\n",
       "      <td>fff2aa27f17612b97cb7b9443bdfe0c8377343f1</td>\n",
       "      <td>__main__.expensive_mult</td>\n",
       "      <td>0</td>\n",
       "      <td>__main__</td>\n",
       "      <td>expensive_mult</td>\n",
       "      <td>False</td>\n",
       "      <td>0.000030</td>\n",
       "      <td>2.003946</td>\n",
       "      <td>0.000339</td>\n",
       "      <td>2017-04-30 23:59:11.279636</td>\n",
       "      <td>2017-04-30 23:59:13.293786</td>\n",
       "      <td>[88311853d7c885426fc5686543fe1412c62c0aac, b74...</td>\n",
       "      <td>{'__varargs': [], 'b': {'id': 'b74ccde8b53c0e0...</td>\n",
       "      <td>joblib</td>\n",
       "      <td>None</td>\n",
       "      <td>None</td>\n",
       "      <td>{}</td>\n",
       "    </tr>\n",
       "  </tbody>\n",
       "</table>\n",
       "</div>"
      ],
      "text/plain": [
       "                                         id                                  value_id                                    run_id  \\\n",
       "0  88311853d7c885426fc5686543fe1412c62c0aac  bf68bf734f70b6643ce88133e90cf0f191aa704c  fff2aa27f17612b97cb7b9443bdfe0c8377343f1   \n",
       "1  b74ccde8b53c0e02b4f269df65a39fd6be5191f7  9df9e3b99f954bd73e4314d3006e8d5b21bdcb84  fff2aa27f17612b97cb7b9443bdfe0c8377343f1   \n",
       "2  5cb5fe1eeacbfe961bd03e63609ad64cf9c3ce12  483f2bffe8d13307d17ab5162facd02c09ff3b08  fff2aa27f17612b97cb7b9443bdfe0c8377343f1   \n",
       "\n",
       "                      name  version fn_module         fn_name composite  value_id_duration  compute_duration  hash_duration  \\\n",
       "0   __main__.expensive_add        0  __main__   expensive_add     False           0.000047          2.000509       0.000481   \n",
       "1   __main__.expensive_add        0  __main__   expensive_add     False           0.000049          2.004247       0.000450   \n",
       "2  __main__.expensive_mult        0  __main__  expensive_mult     False           0.000030          2.003946       0.000339   \n",
       "\n",
       "                 computed_at                   added_at                                 input_artifact_ids  \\\n",
       "0 2017-04-30 23:59:07.044956 2017-04-30 23:59:09.068981                                                 []   \n",
       "1 2017-04-30 23:59:09.257366 2017-04-30 23:59:11.272746                                                 []   \n",
       "2 2017-04-30 23:59:11.279636 2017-04-30 23:59:13.293786  [88311853d7c885426fc5686543fe1412c62c0aac, b74...   \n",
       "\n",
       "                                         inputs_json serializer load_kwargs dump_kwargs custom_fields  \n",
       "0                  {'__varargs': [], 'b': 3, 'a': 4}     joblib        None        None            {}  \n",
       "1                  {'__varargs': [], 'b': 1, 'a': 1}     joblib        None        None            {}  \n",
       "2  {'__varargs': [], 'b': {'id': 'b74ccde8b53c0e0...     joblib        None        None            {}  "
      ]
     },
     "execution_count": 18,
     "metadata": {},
     "output_type": "execute_result"
    }
   ],
   "source": [
    "repo = p.get_default_repo()\n",
    "\n",
    "db = repo._db_engine\n",
    "\n",
    "import pandas as pd\n",
    "\n",
    "pandas.read_sql(\"select * from artifacts\", db)"
   ]
  },
  {
   "cell_type": "markdown",
   "metadata": {},
   "source": [
    "A few things to note here...\n",
    "\n",
    "* The `input_artifact_ids` is an array of all of the artifact ids that were used in the input (even if nested in another data structure). This allows you to efficiently query for the progeny of a particular artifact.\n",
    "\n",
    "* The `inputs_json` and `custom_fields` columns are stored as [JSONB in Postgres](https://www.postgresql.org/docs/9.5/static/functions-json.html) allowing you to query the nested structure via SQL. For example, you could find all the addition artifacts that were created with a particular argument:"
   ]
  },
  {
   "cell_type": "code",
   "execution_count": 19,
   "metadata": {},
   "outputs": [
    {
     "data": {
      "text/html": [
       "<div>\n",
       "<table border=\"1\" class=\"dataframe\">\n",
       "  <thead>\n",
       "    <tr style=\"text-align: right;\">\n",
       "      <th></th>\n",
       "      <th>id</th>\n",
       "      <th>value_id</th>\n",
       "      <th>run_id</th>\n",
       "      <th>name</th>\n",
       "      <th>version</th>\n",
       "      <th>fn_module</th>\n",
       "      <th>fn_name</th>\n",
       "      <th>composite</th>\n",
       "      <th>value_id_duration</th>\n",
       "      <th>compute_duration</th>\n",
       "      <th>hash_duration</th>\n",
       "      <th>computed_at</th>\n",
       "      <th>added_at</th>\n",
       "      <th>input_artifact_ids</th>\n",
       "      <th>inputs_json</th>\n",
       "      <th>serializer</th>\n",
       "      <th>load_kwargs</th>\n",
       "      <th>dump_kwargs</th>\n",
       "      <th>custom_fields</th>\n",
       "    </tr>\n",
       "  </thead>\n",
       "  <tbody>\n",
       "    <tr>\n",
       "      <th>0</th>\n",
       "      <td>88311853d7c885426fc5686543fe1412c62c0aac</td>\n",
       "      <td>bf68bf734f70b6643ce88133e90cf0f191aa704c</td>\n",
       "      <td>fff2aa27f17612b97cb7b9443bdfe0c8377343f1</td>\n",
       "      <td>__main__.expensive_add</td>\n",
       "      <td>0</td>\n",
       "      <td>__main__</td>\n",
       "      <td>expensive_add</td>\n",
       "      <td>False</td>\n",
       "      <td>0.000047</td>\n",
       "      <td>2.000509</td>\n",
       "      <td>0.000481</td>\n",
       "      <td>2017-04-30 23:59:07.044956</td>\n",
       "      <td>2017-04-30 23:59:09.068981</td>\n",
       "      <td>[]</td>\n",
       "      <td>{'__varargs': [], 'b': 3, 'a': 4}</td>\n",
       "      <td>joblib</td>\n",
       "      <td>None</td>\n",
       "      <td>None</td>\n",
       "      <td>{}</td>\n",
       "    </tr>\n",
       "    <tr>\n",
       "      <th>1</th>\n",
       "      <td>b74ccde8b53c0e02b4f269df65a39fd6be5191f7</td>\n",
       "      <td>9df9e3b99f954bd73e4314d3006e8d5b21bdcb84</td>\n",
       "      <td>fff2aa27f17612b97cb7b9443bdfe0c8377343f1</td>\n",
       "      <td>__main__.expensive_add</td>\n",
       "      <td>0</td>\n",
       "      <td>__main__</td>\n",
       "      <td>expensive_add</td>\n",
       "      <td>False</td>\n",
       "      <td>0.000049</td>\n",
       "      <td>2.004247</td>\n",
       "      <td>0.000450</td>\n",
       "      <td>2017-04-30 23:59:09.257366</td>\n",
       "      <td>2017-04-30 23:59:11.272746</td>\n",
       "      <td>[]</td>\n",
       "      <td>{'__varargs': [], 'b': 1, 'a': 1}</td>\n",
       "      <td>joblib</td>\n",
       "      <td>None</td>\n",
       "      <td>None</td>\n",
       "      <td>{}</td>\n",
       "    </tr>\n",
       "  </tbody>\n",
       "</table>\n",
       "</div>"
      ],
      "text/plain": [
       "                                         id                                  value_id                                    run_id  \\\n",
       "0  88311853d7c885426fc5686543fe1412c62c0aac  bf68bf734f70b6643ce88133e90cf0f191aa704c  fff2aa27f17612b97cb7b9443bdfe0c8377343f1   \n",
       "1  b74ccde8b53c0e02b4f269df65a39fd6be5191f7  9df9e3b99f954bd73e4314d3006e8d5b21bdcb84  fff2aa27f17612b97cb7b9443bdfe0c8377343f1   \n",
       "\n",
       "                     name  version fn_module        fn_name composite  value_id_duration  compute_duration  hash_duration  \\\n",
       "0  __main__.expensive_add        0  __main__  expensive_add     False           0.000047          2.000509       0.000481   \n",
       "1  __main__.expensive_add        0  __main__  expensive_add     False           0.000049          2.004247       0.000450   \n",
       "\n",
       "                 computed_at                   added_at input_artifact_ids                        inputs_json serializer load_kwargs dump_kwargs  \\\n",
       "0 2017-04-30 23:59:07.044956 2017-04-30 23:59:09.068981                 []  {'__varargs': [], 'b': 3, 'a': 4}     joblib        None        None   \n",
       "1 2017-04-30 23:59:09.257366 2017-04-30 23:59:11.272746                 []  {'__varargs': [], 'b': 1, 'a': 1}     joblib        None        None   \n",
       "\n",
       "  custom_fields  \n",
       "0            {}  \n",
       "1            {}  "
      ]
     },
     "execution_count": 19,
     "metadata": {},
     "output_type": "execute_result"
    }
   ],
   "source": [
    "pandas.read_sql(\"\"\"select * from artifacts \n",
    "                   where fn_name = 'expensive_add'\n",
    "                   and (inputs_json ->> 'a')::int IN (1, 4)\n",
    "                \"\"\", db)"
   ]
  },
  {
   "cell_type": "code",
   "execution_count": 25,
   "metadata": {},
   "outputs": [
    {
     "name": "stdout",
     "output_type": "stream",
     "text": [
      "total 32\r\n",
      "-rw------- 1 bmabey staff  60 Apr 30 17:59 1106f8117e45a6736cf21222b4539f8aa4d16197\r\n",
      "-rw------- 1 bmabey staff   5 Apr 30 17:59 483f2bffe8d13307d17ab5162facd02c09ff3b08\r\n",
      "-rw------- 1 bmabey staff 195 Apr 30 17:59 5cb5fe1eeacbfe961bd03e63609ad64cf9c3ce12\r\n",
      "-rw------- 1 bmabey staff  60 Apr 30 17:59 88311853d7c885426fc5686543fe1412c62c0aac\r\n",
      "-rw------- 1 bmabey staff   5 Apr 30 17:59 9df9e3b99f954bd73e4314d3006e8d5b21bdcb84\r\n",
      "-rw------- 1 bmabey staff   5 Apr 30 17:59 b4f270ccdb89ba3cc7d413c99e364b779676d72d\r\n",
      "-rw------- 1 bmabey staff  60 Apr 30 17:59 b74ccde8b53c0e02b4f269df65a39fd6be5191f7\r\n",
      "-rw------- 1 bmabey staff   5 Apr 30 17:59 bf68bf734f70b6643ce88133e90cf0f191aa704c\r\n"
     ]
    }
   ],
   "source": [
    "# the blobs are written to files with the names matching the hash of the content\n",
    "!ls -l /tmp/provenance-intro-artifacts | head"
   ]
  },
  {
   "cell_type": "markdown",
   "metadata": {},
   "source": [
    "## Function Versioning"
   ]
  },
  {
   "cell_type": "markdown",
   "metadata": {},
   "source": [
    "A potential pitfall of using `provenance` is getting stale cache results after updating your function. For example lets say we update our function definition:"
   ]
  },
  {
   "cell_type": "code",
   "execution_count": 21,
   "metadata": {
    "collapsed": true
   },
   "outputs": [],
   "source": [
    "@p.provenance()\n",
    "def expensive_add(a, b):\n",
    "    time.sleep(2)\n",
    "    return a + b + a + b + a"
   ]
  },
  {
   "cell_type": "code",
   "execution_count": 22,
   "metadata": {},
   "outputs": [
    {
     "name": "stdout",
     "output_type": "stream",
     "text": [
      "CPU times: user 4.2 ms, sys: 1.95 ms, total: 6.15 ms\n",
      "Wall time: 6.67 ms\n"
     ]
    },
    {
     "data": {
      "text/plain": [
       "<provenance.ArtifactProxy(88311853d7c885426fc5686543fe1412c62c0aac) 7 >"
      ]
     },
     "execution_count": 22,
     "metadata": {},
     "output_type": "execute_result"
    }
   ],
   "source": [
    "%%time\n",
    "expensive_add(4, 3)"
   ]
  },
  {
   "cell_type": "markdown",
   "metadata": {},
   "source": [
    "Noting the quick return time and incorrect result we see that we got an old (stale) cached result from our initial implementation. Rather than trying to determine if a function has been updated as `joblib` does the `provenance` library requires that you explicity version your functions to force new results to be computed. The rationale behind this is that it is quite hard (impossible in Python?) to tell when a funtion's definition or that of a helper function, which may be in another library, has semantically changed. For this reason the user of `provenance` must increment the version number of a function in the decorator:"
   ]
  },
  {
   "cell_type": "code",
   "execution_count": 23,
   "metadata": {
    "collapsed": true
   },
   "outputs": [],
   "source": [
    "# the default version is 0 so lets set it to 1\n",
    "@p.provenance(version=1)\n",
    "def expensive_add(a, b):\n",
    "    time.sleep(2)\n",
    "    return a + b + a + b + a"
   ]
  },
  {
   "cell_type": "code",
   "execution_count": 24,
   "metadata": {},
   "outputs": [
    {
     "name": "stdout",
     "output_type": "stream",
     "text": [
      "CPU times: user 12.6 ms, sys: 3.25 ms, total: 15.8 ms\n",
      "Wall time: 2.02 s\n"
     ]
    },
    {
     "data": {
      "text/plain": [
       "<provenance.ArtifactProxy(1106f8117e45a6736cf21222b4539f8aa4d16197) 18 >"
      ]
     },
     "execution_count": 24,
     "metadata": {},
     "output_type": "execute_result"
    }
   ],
   "source": [
    "%%time\n",
    "expensive_add(4, 3)"
   ]
  },
  {
   "cell_type": "markdown",
   "metadata": {},
   "source": [
    "While this may seem onerous in practice this is not a big problem in a mature code base once people are aware of this. For rapidly changing functions you may want to consider using the `use_cache=False` option temporarily as you iterate on your function. See the docs on the decorator for more information."
   ]
  },
  {
   "cell_type": "markdown",
   "metadata": {},
   "source": [
    "## Next Steps\n",
    "\n",
    "You now know the basics of the `provenance` library and can start using it now! Be aware that the `provenance` decorator takes a number of other options (such as `tags`) that can be quite helpful. Please refer to the [API documenation](API.rst) for details."
   ]
  }
 ],
 "metadata": {
  "kernelspec": {
   "display_name": "Python [conda env:provenance-dev]",
   "language": "python",
   "name": "conda-env-provenance-dev-py"
  },
  "language_info": {
   "codemirror_mode": {
    "name": "ipython",
    "version": 3
   },
   "file_extension": ".py",
   "mimetype": "text/x-python",
   "name": "python",
   "nbconvert_exporter": "python",
   "pygments_lexer": "ipython3",
   "version": "3.5.0"
  },
  "name": "Introduction Guide.ipynb"
 },
 "nbformat": 4,
 "nbformat_minor": 1
}
